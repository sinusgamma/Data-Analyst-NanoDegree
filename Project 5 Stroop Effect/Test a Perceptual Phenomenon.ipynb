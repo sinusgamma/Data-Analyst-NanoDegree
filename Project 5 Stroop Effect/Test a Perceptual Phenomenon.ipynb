{
 "cells": [
  {
   "cell_type": "markdown",
   "metadata": {},
   "source": [
    "### Analyzing the Stroop Effect\n",
    "Perform the analysis in the space below. Remember to follow [the instructions](https://docs.google.com/document/d/1-OkpZLjG_kX9J6LIQ5IltsqMzVWjh36QpnP2RYpVdPU/pub?embedded=True) and review the [project rubric](https://review.udacity.com/#!/rubrics/71/view) before submitting. Once you've completed the analysis and write-up, download this file as a PDF or HTML file, upload that PDF/HTML into the workspace here (click on the orange Jupyter icon in the upper left then Upload), then use the Submit Project button at the bottom of this page. This will create a zip file containing both this .ipynb doc and the PDF/HTML doc that will be submitted for your project.\n",
    "\n",
    "\n",
    "(1) What is the independent variable? What is the dependent variable?"
   ]
  },
  {
   "cell_type": "markdown",
   "metadata": {},
   "source": [
    "**The independent variable: is the list congruent or incongruent.**\n",
    "\n",
    "**The dependent variable: the time it takes to name the ink colors in equally-sized lists.**"
   ]
  },
  {
   "cell_type": "markdown",
   "metadata": {},
   "source": [
    "(2) What is an appropriate set of hypotheses for this task? Specify your null and alternative hypotheses, and clearly define any notation used. Justify your choices."
   ]
  },
  {
   "cell_type": "markdown",
   "metadata": {},
   "source": [
    "**I think we have two reasonable options here:**\n",
    "\n",
    "**I. The more cautious hypothesis is when we don't have any preconception about the direction of difference between the average time needed for the congruent and incongruent list. This case we would like to see, if there is a statistically significant difference between the average times at all. Here we need a two-tail test.**\n",
    "\n",
    "$$H_0: \\mu_{congruent} = \\mu_{incongruent}$$\n",
    "\n",
    "$$H_1: \\mu_{congruent} \\neq \\mu_{incongruent}$$\n",
    "\n",
    "**II. I don't have experience with the Stroop Effect, but from what I read, I assume that the average time for the incongruent list will be longer than the average time for the congruent list. So I want to prove this, this is going to be my alternative hypothesis H1. Here we need a one-tail test.**\n",
    "\n",
    "$$H_0: \\mu_{congruent} >= \\mu_{incongruent}$$\n",
    "\n",
    "$$H_1: \\mu_{congruent} < \\mu_{incongruent}$$\n"
   ]
  },
  {
   "cell_type": "markdown",
   "metadata": {},
   "source": [
    "(3) Report some descriptive statistics regarding this dataset. Include at least one measure of central tendency and at least one measure of variability. The name of the data file is 'stroopdata.csv'."
   ]
  },
  {
   "cell_type": "code",
   "execution_count": 1,
   "metadata": {},
   "outputs": [
    {
     "name": "stdout",
     "output_type": "stream",
     "text": [
      "(24, 2)\n"
     ]
    },
    {
     "data": {
      "text/html": [
       "<div>\n",
       "<style>\n",
       "    .dataframe thead tr:only-child th {\n",
       "        text-align: right;\n",
       "    }\n",
       "\n",
       "    .dataframe thead th {\n",
       "        text-align: left;\n",
       "    }\n",
       "\n",
       "    .dataframe tbody tr th {\n",
       "        vertical-align: top;\n",
       "    }\n",
       "</style>\n",
       "<table border=\"1\" class=\"dataframe\">\n",
       "  <thead>\n",
       "    <tr style=\"text-align: right;\">\n",
       "      <th></th>\n",
       "      <th>Congruent</th>\n",
       "      <th>Incongruent</th>\n",
       "    </tr>\n",
       "  </thead>\n",
       "  <tbody>\n",
       "    <tr>\n",
       "      <th>0</th>\n",
       "      <td>12.079</td>\n",
       "      <td>19.278</td>\n",
       "    </tr>\n",
       "    <tr>\n",
       "      <th>1</th>\n",
       "      <td>16.791</td>\n",
       "      <td>18.741</td>\n",
       "    </tr>\n",
       "    <tr>\n",
       "      <th>2</th>\n",
       "      <td>9.564</td>\n",
       "      <td>21.214</td>\n",
       "    </tr>\n",
       "    <tr>\n",
       "      <th>3</th>\n",
       "      <td>8.630</td>\n",
       "      <td>15.687</td>\n",
       "    </tr>\n",
       "    <tr>\n",
       "      <th>4</th>\n",
       "      <td>14.669</td>\n",
       "      <td>22.803</td>\n",
       "    </tr>\n",
       "  </tbody>\n",
       "</table>\n",
       "</div>"
      ],
      "text/plain": [
       "   Congruent  Incongruent\n",
       "0     12.079       19.278\n",
       "1     16.791       18.741\n",
       "2      9.564       21.214\n",
       "3      8.630       15.687\n",
       "4     14.669       22.803"
      ]
     },
     "execution_count": 1,
     "metadata": {},
     "output_type": "execute_result"
    }
   ],
   "source": [
    "# Perform the analysis here\n",
    "import numpy as np\n",
    "import pandas as pd\n",
    "from scipy.stats import iqr\n",
    "import matplotlib.pyplot as plt\n",
    "\n",
    "df = pd.read_csv('stroopdata.csv')\n",
    "print(df.shape)\n",
    "df.head()"
   ]
  },
  {
   "cell_type": "code",
   "execution_count": 2,
   "metadata": {},
   "outputs": [
    {
     "name": "stdout",
     "output_type": "stream",
     "text": [
      "18.0335208333\n",
      "14.051125\n",
      "22.0159166667\n",
      "14.3565\n",
      "21.0175\n",
      "3.55935795765\n",
      "4.79705712247\n",
      "4.3055\n",
      "5.33475\n"
     ]
    }
   ],
   "source": [
    "print(df.values.flatten().mean())\n",
    "print(df['Congruent'].mean())\n",
    "print(df['Incongruent'].mean())\n",
    "print(df['Congruent'].median())\n",
    "print(df['Incongruent'].median())\n",
    "print(df['Congruent'].std())\n",
    "print(df['Incongruent'].std())\n",
    "print(iqr(df['Congruent']))\n",
    "print(iqr(df['Incongruent']))\n"
   ]
  },
  {
   "cell_type": "markdown",
   "metadata": {},
   "source": [
    "Mean of the time spent regardless of group: 18.0335208333<br>\n",
    "Congruent mean: 14.051125<br>\n",
    "Incongruent mean: 22.0159166667<br>\n",
    "Congruent median: 14.3565<br>\n",
    "Incongruent median: 21.0175<br>\n",
    "Congruent standard deviation: 3.55935795765<br>\n",
    "Incongruent standard deviation: 4.79705712247<br>\n",
    "Congruent interquartile range: 4.3055<br>\n",
    "Incongruent interquartile range: 5.33475<br>"
   ]
  },
  {
   "cell_type": "markdown",
   "metadata": {},
   "source": [
    "(4) Provide one or two visualizations that show the distribution of the sample data. Write one or two sentences noting what you observe about the plot or plots."
   ]
  },
  {
   "cell_type": "code",
   "execution_count": 3,
   "metadata": {},
   "outputs": [
    {
     "data": {
      "image/png": "[encoded data removed]",
      "text/plain": [
       "<matplotlib.figure.Figure at 0x7f0cc1a517b8>"
      ]
     },
     "metadata": {
      "needs_background": "light"
     },
     "output_type": "display_data"
    }
   ],
   "source": [
    "fig, ax1 = plt.subplots(figsize=(8,4))\n",
    "\n",
    "ax1.hist(df['Congruent'], alpha=0.5, bins=8)\n",
    "ax1.hist(df['Incongruent'], alpha=0.5, bins=8)\n",
    "\n",
    "ax1.set_xlabel('time spent')\n",
    "ax1.set_ylabel('bin count')\n",
    "ax1.set_title('Histogram of time spent on the Congruent and Incongruent list', fontsize=14)\n",
    "ax1.legend()\n",
    "fig.tight_layout()"
   ]
  },
  {
   "cell_type": "markdown",
   "metadata": {},
   "source": [
    "**We can see in the histograms that a large part of the congruent group needed less time to finish the test than the fastest ones in the incongruent group. The slowest ones are in the incongruent group. It is hard to decide if the distributions are symmetric or not, we would need more data.**"
   ]
  },
  {
   "cell_type": "markdown",
   "metadata": {},
   "source": [
    "(5)  Now, perform the statistical test and report your results. What is your confidence level or Type I error associated with your test? What is your conclusion regarding the hypotheses you set up? Did the results match up with your expectations? **Hint:**  Think about what is being measured on each individual, and what statistic best captures how an individual reacts in each environment."
   ]
  },
  {
   "cell_type": "code",
   "execution_count": 4,
   "metadata": {},
   "outputs": [],
   "source": [
    "# bootstrap new samples\n",
    "congruent_simulation = np.random.choice(df['Congruent'], size=(24,10000), replace=True)\n",
    "incongruent_simulation = np.random.choice(df['Incongruent'], size=(24,10000), replace=True)\n",
    "# find the sample means\n",
    "congruent_means = congruent_simulation.mean(axis=0)\n",
    "incongruent_means = incongruent_simulation.mean(axis=0)\n",
    "# calculate the difference of the means\n",
    "mean_diff = incongruent_means - congruent_means\n",
    "# calculate the difference in the original data\n",
    "obs_diff = df['Incongruent'].mean() - df['Congruent'].mean() "
   ]
  },
  {
   "cell_type": "code",
   "execution_count": 5,
   "metadata": {},
   "outputs": [
    {
     "data": {
      "image/png": "[encoded data removed]",
      "text/plain": [
       "<matplotlib.figure.Figure at 0x7f0cc1a756a0>"
      ]
     },
     "metadata": {
      "needs_background": "light"
     },
     "output_type": "display_data"
    }
   ],
   "source": [
    "# without calculating the p value the difference is obvious, the distributions of mean values are far from each other\n",
    "plt.hist(congruent_means);\n",
    "plt.hist(incongruent_means);"
   ]
  },
  {
   "cell_type": "code",
   "execution_count": 6,
   "metadata": {},
   "outputs": [
    {
     "data": {
      "image/png": "[encoded data removed]",
      "text/plain": [
       "<matplotlib.figure.Figure at 0x7f0cbf9555f8>"
      ]
     },
     "metadata": {
      "needs_background": "light"
     },
     "output_type": "display_data"
    }
   ],
   "source": [
    "# the distribution of the null hypothesis and the observed difference between the means (red line)\n",
    "null_values = np.random.normal(loc=0, scale=np.std(mean_diff),size=10000)\n",
    "plt.hist(null_values);\n",
    "plt.axvline(obs_diff, color='red');"
   ]
  },
  {
   "cell_type": "code",
   "execution_count": 7,
   "metadata": {},
   "outputs": [
    {
     "data": {
      "text/plain": [
       "0.0"
      ]
     },
     "execution_count": 7,
     "metadata": {},
     "output_type": "execute_result"
    }
   ],
   "source": [
    "p_value = (null_values > obs_diff).mean()\n",
    "p_value"
   ]
  },
  {
   "cell_type": "markdown",
   "metadata": {},
   "source": [
    "**Inspecting the chart \"Histogram of time spent on the Congruent and Incongruent list\" I presume that the mean time for the Incongruent group is larger than the mean time for the Congruent group, so my hypothesis:**\n",
    "$$H_0: \\mu_{congruent} >= \\mu_{incongruent}$$\n",
    "\n",
    "$$H_1: \\mu_{congruent} < \\mu_{incongruent}$$\n",
    "**Here H1 is the alternative hypothesis.**\n",
    "\n",
    "**I chose bootstraping for the hypothesis test. With a t-test my p-value wouldn't be zero but would be a very small value as well. Here my confidence level is 100%. And if the null hypothesis is true, there is 0.0 percent (p-value) chance to have as large or larger difference in the means than the observed difference of means, so we reject the null hypothesis. We can say that the average time for the incongruent group is larger than the average time for the congruent.**"
   ]
  },
  {
   "cell_type": "markdown",
   "metadata": {},
   "source": [
    "(6) Optional: What do you think is responsible for the effects observed? Can you think of an alternative or similar task that would result in a similar effect? Some research about the problem will be helpful for thinking about these two questions!"
   ]
  },
  {
   "cell_type": "markdown",
   "metadata": {},
   "source": [
    "**I tried out the test, and at first, it is hard to find out the correct answer fast. My brain focused more on the text and not on the color. Later someone can develop a technic to focus only on the color, but I think without experience we need an extra effort to neglect the text, and this needs extra time. \n",
    "A similar test for the hearing could be the following: Somebody is reading words: low, faint, quiet, still vs loud, noisy, strong. But the words are randomly loud or quite. So we have to choose not the meaning, but the loudness. Maybe this would be easier than the text/colors version, but I think this would result some mean time difference as well.**"
   ]
  },
  {
   "cell_type": "code",
   "execution_count": null,
   "metadata": {},
   "outputs": [],
   "source": []
  }
 ],
 "metadata": {
  "kernelspec": {
   "display_name": "Python 3",
   "language": "python",
   "name": "python3"
  },
  "language_info": {
   "codemirror_mode": {
    "name": "ipython",
    "version": 3
   },
   "file_extension": ".py",
   "mimetype": "text/x-python",
   "name": "python",
   "nbconvert_exporter": "python",
   "pygments_lexer": "ipython3",
   "version": "3.6.3"
  }
 },
 "nbformat": 4,
 "nbformat_minor": 2
}
